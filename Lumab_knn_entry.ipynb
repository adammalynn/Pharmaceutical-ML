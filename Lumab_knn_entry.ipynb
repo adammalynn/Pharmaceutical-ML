{
 "cells": [
  {
   "cell_type": "code",
   "execution_count": 32,
   "metadata": {},
   "outputs": [],
   "source": [
    "%matplotlib inline\n",
    "import matplotlib.pyplot as plt\n",
    "import numpy as np\n",
    "import pandas as pd\n",
    "import seaborn as sns\n",
    "from sklearn.neighbors import KNeighborsClassifier\n",
    "from sklearn import tree\n",
    "import os\n"
   ]
  },
  {
   "cell_type": "code",
   "execution_count": 33,
   "metadata": {},
   "outputs": [],
   "source": [
    "# Read the csv file into a pandas DataFrame\n",
    "dfs = pd.read_csv('source_data/lumab_stab_scrubbed.csv')\n"
   ]
  },
  {
   "cell_type": "code",
   "execution_count": 34,
   "metadata": {},
   "outputs": [
    {
     "data": {
      "text/html": [
       "<div>\n",
       "<style scoped>\n",
       "    .dataframe tbody tr th:only-of-type {\n",
       "        vertical-align: middle;\n",
       "    }\n",
       "\n",
       "    .dataframe tbody tr th {\n",
       "        vertical-align: top;\n",
       "    }\n",
       "\n",
       "    .dataframe thead th {\n",
       "        text-align: right;\n",
       "    }\n",
       "</style>\n",
       "<table border=\"1\" class=\"dataframe\">\n",
       "  <thead>\n",
       "    <tr style=\"text-align: right;\">\n",
       "      <th></th>\n",
       "      <th>TIMEPOINT</th>\n",
       "      <th>NAME</th>\n",
       "      <th>ENTRY</th>\n",
       "      <th>CONDITION</th>\n",
       "      <th>PRODUCT</th>\n",
       "      <th>Sample-Number</th>\n",
       "      <th>Lot</th>\n",
       "    </tr>\n",
       "  </thead>\n",
       "  <tbody>\n",
       "    <tr>\n",
       "      <th>0</th>\n",
       "      <td>06M</td>\n",
       "      <td>Deamidation</td>\n",
       "      <td>3.675000</td>\n",
       "      <td>5C</td>\n",
       "      <td>Lumab</td>\n",
       "      <td>21573</td>\n",
       "      <td>39360</td>\n",
       "    </tr>\n",
       "    <tr>\n",
       "      <th>1</th>\n",
       "      <td>09M</td>\n",
       "      <td>Deamidation</td>\n",
       "      <td>3.465000</td>\n",
       "      <td>5C</td>\n",
       "      <td>Lumab</td>\n",
       "      <td>21575</td>\n",
       "      <td>39360</td>\n",
       "    </tr>\n",
       "    <tr>\n",
       "      <th>2</th>\n",
       "      <td>12M</td>\n",
       "      <td>Deamidation</td>\n",
       "      <td>4.515000</td>\n",
       "      <td>5C</td>\n",
       "      <td>Lumab</td>\n",
       "      <td>21578</td>\n",
       "      <td>39360</td>\n",
       "    </tr>\n",
       "    <tr>\n",
       "      <th>3</th>\n",
       "      <td>24M</td>\n",
       "      <td>Deamidation</td>\n",
       "      <td>3.826734</td>\n",
       "      <td>5C</td>\n",
       "      <td>Lumab</td>\n",
       "      <td>95206</td>\n",
       "      <td>39404</td>\n",
       "    </tr>\n",
       "    <tr>\n",
       "      <th>4</th>\n",
       "      <td>24M</td>\n",
       "      <td>Deamidation</td>\n",
       "      <td>4.192381</td>\n",
       "      <td>5C</td>\n",
       "      <td>Lumab</td>\n",
       "      <td>95209</td>\n",
       "      <td>39408</td>\n",
       "    </tr>\n",
       "  </tbody>\n",
       "</table>\n",
       "</div>"
      ],
      "text/plain": [
       "  TIMEPOINT         NAME     ENTRY CONDITION PRODUCT  Sample-Number    Lot\n",
       "0       06M  Deamidation  3.675000        5C   Lumab          21573  39360\n",
       "1       09M  Deamidation  3.465000        5C   Lumab          21575  39360\n",
       "2       12M  Deamidation  4.515000        5C   Lumab          21578  39360\n",
       "3       24M  Deamidation  3.826734        5C   Lumab          95206  39404\n",
       "4       24M  Deamidation  4.192381        5C   Lumab          95209  39408"
      ]
     },
     "execution_count": 34,
     "metadata": {},
     "output_type": "execute_result"
    }
   ],
   "source": [
    "dfs.head()"
   ]
  },
  {
   "cell_type": "code",
   "execution_count": 35,
   "metadata": {},
   "outputs": [],
   "source": [
    "# Data Cleaning\n",
    "\n",
    "data1= dfs.drop(columns=[ \"NAME\", \"PRODUCT\", \"Sample-Number\"], axis=1)\n",
    "# drop unnamed column\n",
    "\n",
    "#data1=data1.drop(data1.columns[0], axis=1)\n",
    "# strip < from entry\n",
    "#data1['ENTRY'] = data1['ENTRY'].str.replace('<', '')\n",
    "data1.fillna(value=0, inplace=True)"
   ]
  },
  {
   "cell_type": "code",
   "execution_count": 36,
   "metadata": {},
   "outputs": [
    {
     "data": {
      "text/html": [
       "<div>\n",
       "<style scoped>\n",
       "    .dataframe tbody tr th:only-of-type {\n",
       "        vertical-align: middle;\n",
       "    }\n",
       "\n",
       "    .dataframe tbody tr th {\n",
       "        vertical-align: top;\n",
       "    }\n",
       "\n",
       "    .dataframe thead th {\n",
       "        text-align: right;\n",
       "    }\n",
       "</style>\n",
       "<table border=\"1\" class=\"dataframe\">\n",
       "  <thead>\n",
       "    <tr style=\"text-align: right;\">\n",
       "      <th></th>\n",
       "      <th>TIMEPOINT</th>\n",
       "      <th>ENTRY</th>\n",
       "      <th>CONDITION</th>\n",
       "      <th>Lot</th>\n",
       "    </tr>\n",
       "  </thead>\n",
       "  <tbody>\n",
       "    <tr>\n",
       "      <th>0</th>\n",
       "      <td>06M</td>\n",
       "      <td>3.675000</td>\n",
       "      <td>5C</td>\n",
       "      <td>39360</td>\n",
       "    </tr>\n",
       "    <tr>\n",
       "      <th>1</th>\n",
       "      <td>09M</td>\n",
       "      <td>3.465000</td>\n",
       "      <td>5C</td>\n",
       "      <td>39360</td>\n",
       "    </tr>\n",
       "    <tr>\n",
       "      <th>2</th>\n",
       "      <td>12M</td>\n",
       "      <td>4.515000</td>\n",
       "      <td>5C</td>\n",
       "      <td>39360</td>\n",
       "    </tr>\n",
       "    <tr>\n",
       "      <th>3</th>\n",
       "      <td>24M</td>\n",
       "      <td>3.826734</td>\n",
       "      <td>5C</td>\n",
       "      <td>39404</td>\n",
       "    </tr>\n",
       "    <tr>\n",
       "      <th>4</th>\n",
       "      <td>24M</td>\n",
       "      <td>4.192381</td>\n",
       "      <td>5C</td>\n",
       "      <td>39408</td>\n",
       "    </tr>\n",
       "  </tbody>\n",
       "</table>\n",
       "</div>"
      ],
      "text/plain": [
       "  TIMEPOINT     ENTRY CONDITION    Lot\n",
       "0       06M  3.675000        5C  39360\n",
       "1       09M  3.465000        5C  39360\n",
       "2       12M  4.515000        5C  39360\n",
       "3       24M  3.826734        5C  39404\n",
       "4       24M  4.192381        5C  39408"
      ]
     },
     "execution_count": 36,
     "metadata": {},
     "output_type": "execute_result"
    }
   ],
   "source": [
    "data1.head()"
   ]
  },
  {
   "cell_type": "code",
   "execution_count": 37,
   "metadata": {},
   "outputs": [],
   "source": [
    "#removed / and alphabet\n",
    "data1.replace(r'/\\w+',value=\"\",inplace=True,regex=True)\n",
    "data1['Lot'].replace(r'[A-Z,a-z]+',value=\"\",inplace=True,regex=True)"
   ]
  },
  {
   "cell_type": "code",
   "execution_count": 38,
   "metadata": {},
   "outputs": [],
   "source": [
    "# convert to integer and round to 1 decimal place\n",
    "data1[\"ENTRY\"] = pd.to_numeric(data1[\"ENTRY\"])\n",
    "data1[\"ENTRY\"] = data1[\"ENTRY\"].round(1)"
   ]
  },
  {
   "cell_type": "code",
   "execution_count": 39,
   "metadata": {},
   "outputs": [],
   "source": [
    "#### testing ###\n",
    "data1['TIMEPOINT'] = data1['TIMEPOINT'].str.replace('M', '').astype(int)"
   ]
  },
  {
   "cell_type": "code",
   "execution_count": 40,
   "metadata": {},
   "outputs": [],
   "source": [
    "# Recoding the two conditions to 1's and 0's\n",
    "data1['CONDITION'] = [ 1 if x == '5C' else 0 for x in dfs['CONDITION']]"
   ]
  },
  {
   "cell_type": "code",
   "execution_count": 41,
   "metadata": {},
   "outputs": [],
   "source": [
    "# use bins to create category\n",
    "entry_bins = [-1, 0, 1, 2, 3, 4, 5, 6, 8]\n",
    "group_names = [\"S0\", \"S1\", \"S2\", \"S3\",\"S4\", \"S5\", \"S6\", \"S7\"]\n",
    "\n",
    "# Categorize the deamidiation measurement using entry_bins\n",
    "data1[\"ENTRY\"] = pd.cut(data1[\"ENTRY\"], entry_bins, labels=group_names)"
   ]
  },
  {
   "cell_type": "code",
   "execution_count": 42,
   "metadata": {},
   "outputs": [
    {
     "data": {
      "text/html": [
       "<div>\n",
       "<style scoped>\n",
       "    .dataframe tbody tr th:only-of-type {\n",
       "        vertical-align: middle;\n",
       "    }\n",
       "\n",
       "    .dataframe tbody tr th {\n",
       "        vertical-align: top;\n",
       "    }\n",
       "\n",
       "    .dataframe thead th {\n",
       "        text-align: right;\n",
       "    }\n",
       "</style>\n",
       "<table border=\"1\" class=\"dataframe\">\n",
       "  <thead>\n",
       "    <tr style=\"text-align: right;\">\n",
       "      <th></th>\n",
       "      <th>TIMEPOINT</th>\n",
       "      <th>ENTRY</th>\n",
       "      <th>CONDITION</th>\n",
       "      <th>Lot</th>\n",
       "    </tr>\n",
       "  </thead>\n",
       "  <tbody>\n",
       "    <tr>\n",
       "      <th>0</th>\n",
       "      <td>6</td>\n",
       "      <td>S4</td>\n",
       "      <td>1</td>\n",
       "      <td>39360</td>\n",
       "    </tr>\n",
       "    <tr>\n",
       "      <th>1</th>\n",
       "      <td>9</td>\n",
       "      <td>S4</td>\n",
       "      <td>1</td>\n",
       "      <td>39360</td>\n",
       "    </tr>\n",
       "    <tr>\n",
       "      <th>2</th>\n",
       "      <td>12</td>\n",
       "      <td>S5</td>\n",
       "      <td>1</td>\n",
       "      <td>39360</td>\n",
       "    </tr>\n",
       "    <tr>\n",
       "      <th>3</th>\n",
       "      <td>24</td>\n",
       "      <td>S4</td>\n",
       "      <td>1</td>\n",
       "      <td>39404</td>\n",
       "    </tr>\n",
       "    <tr>\n",
       "      <th>4</th>\n",
       "      <td>24</td>\n",
       "      <td>S5</td>\n",
       "      <td>1</td>\n",
       "      <td>39408</td>\n",
       "    </tr>\n",
       "  </tbody>\n",
       "</table>\n",
       "</div>"
      ],
      "text/plain": [
       "   TIMEPOINT ENTRY  CONDITION    Lot\n",
       "0          6    S4          1  39360\n",
       "1          9    S4          1  39360\n",
       "2         12    S5          1  39360\n",
       "3         24    S4          1  39404\n",
       "4         24    S5          1  39408"
      ]
     },
     "execution_count": 42,
     "metadata": {},
     "output_type": "execute_result"
    }
   ],
   "source": [
    "data1.head()"
   ]
  },
  {
   "cell_type": "code",
   "execution_count": 43,
   "metadata": {},
   "outputs": [],
   "source": [
    "target = data1[\"ENTRY\"]\n",
    "# target_names = [\"higher\", \"lower\"]"
   ]
  },
  {
   "cell_type": "code",
   "execution_count": 44,
   "metadata": {},
   "outputs": [
    {
     "data": {
      "text/html": [
       "<div>\n",
       "<style scoped>\n",
       "    .dataframe tbody tr th:only-of-type {\n",
       "        vertical-align: middle;\n",
       "    }\n",
       "\n",
       "    .dataframe tbody tr th {\n",
       "        vertical-align: top;\n",
       "    }\n",
       "\n",
       "    .dataframe thead th {\n",
       "        text-align: right;\n",
       "    }\n",
       "</style>\n",
       "<table border=\"1\" class=\"dataframe\">\n",
       "  <thead>\n",
       "    <tr style=\"text-align: right;\">\n",
       "      <th></th>\n",
       "      <th>TIMEPOINT</th>\n",
       "      <th>CONDITION</th>\n",
       "      <th>Lot</th>\n",
       "    </tr>\n",
       "  </thead>\n",
       "  <tbody>\n",
       "    <tr>\n",
       "      <th>0</th>\n",
       "      <td>6</td>\n",
       "      <td>1</td>\n",
       "      <td>39360</td>\n",
       "    </tr>\n",
       "    <tr>\n",
       "      <th>1</th>\n",
       "      <td>9</td>\n",
       "      <td>1</td>\n",
       "      <td>39360</td>\n",
       "    </tr>\n",
       "    <tr>\n",
       "      <th>2</th>\n",
       "      <td>12</td>\n",
       "      <td>1</td>\n",
       "      <td>39360</td>\n",
       "    </tr>\n",
       "    <tr>\n",
       "      <th>3</th>\n",
       "      <td>24</td>\n",
       "      <td>1</td>\n",
       "      <td>39404</td>\n",
       "    </tr>\n",
       "    <tr>\n",
       "      <th>4</th>\n",
       "      <td>24</td>\n",
       "      <td>1</td>\n",
       "      <td>39408</td>\n",
       "    </tr>\n",
       "  </tbody>\n",
       "</table>\n",
       "</div>"
      ],
      "text/plain": [
       "   TIMEPOINT  CONDITION    Lot\n",
       "0          6          1  39360\n",
       "1          9          1  39360\n",
       "2         12          1  39360\n",
       "3         24          1  39404\n",
       "4         24          1  39408"
      ]
     },
     "execution_count": 44,
     "metadata": {},
     "output_type": "execute_result"
    }
   ],
   "source": [
    "data = data1.drop(\"ENTRY\", axis=1)\n",
    "feature_names = data.columns\n",
    "data.head()"
   ]
  },
  {
   "cell_type": "code",
   "execution_count": 45,
   "metadata": {},
   "outputs": [
    {
     "data": {
      "text/plain": [
       "TIMEPOINT     int32\n",
       "CONDITION     int64\n",
       "Lot          object\n",
       "dtype: object"
      ]
     },
     "execution_count": 45,
     "metadata": {},
     "output_type": "execute_result"
    }
   ],
   "source": [
    "data.dtypes"
   ]
  },
  {
   "cell_type": "code",
   "execution_count": 46,
   "metadata": {},
   "outputs": [],
   "source": [
    "from sklearn.model_selection import train_test_split\n",
    "\n",
    "X_train, X_test, y_train, y_test = train_test_split(data, target, random_state=42)"
   ]
  },
  {
   "cell_type": "code",
   "execution_count": 47,
   "metadata": {
    "scrolled": true
   },
   "outputs": [
    {
     "name": "stdout",
     "output_type": "stream",
     "text": [
      "k: 1, Train/Test Score: 0.958/0.570\n",
      "k: 2, Train/Test Score: 0.763/0.519\n",
      "k: 3, Train/Test Score: 0.775/0.544\n",
      "k: 4, Train/Test Score: 0.733/0.544\n",
      "k: 5, Train/Test Score: 0.691/0.544\n",
      "k: 6, Train/Test Score: 0.665/0.608\n",
      "k: 7, Train/Test Score: 0.661/0.544\n",
      "k: 8, Train/Test Score: 0.644/0.570\n",
      "k: 9, Train/Test Score: 0.640/0.582\n"
     ]
    },
    {
     "data": {
      "image/png": "[encoded data removed]",
      "text/plain": [
       "<Figure size 432x288 with 1 Axes>"
      ]
     },
     "metadata": {
      "needs_background": "light"
     },
     "output_type": "display_data"
    }
   ],
   "source": [
    "# Loop through different k values to see which has the highest accuracy\n",
    "# Note: We only use odd numbers because we don't want any ties\n",
    "train_scores = []\n",
    "test_scores = []\n",
    "\n",
    "for k in range(1, 10, 1):\n",
    "    knn = KNeighborsClassifier(n_neighbors=k, algorithm='ball_tree')\n",
    "    knn.fit(X_train, y_train)\n",
    "    train_score = knn.score(X_train, y_train)\n",
    "    test_score = knn.score(X_test, y_test)\n",
    "    train_scores.append(train_score)\n",
    "    test_scores.append(test_score)\n",
    "    print(f\"k: {k}, Train/Test Score: {train_score:.3f}/{test_score:.3f}\")\n",
    "\n",
    "plt.plot(range(1, 10, 1), train_scores, marker='o')\n",
    "plt.plot(range(1, 10, 1), test_scores, marker=\"x\")\n",
    "plt.xlabel(\"k neighbors\")\n",
    "plt.ylabel(\"Testing accuracy Score\")\n",
    "# Save Figure\n",
    "plt.savefig(\"images/Knn_entry.png\")\n",
    "plt.show()\n",
    "\n"
   ]
  },
  {
   "cell_type": "code",
   "execution_count": 48,
   "metadata": {},
   "outputs": [
    {
     "name": "stdout",
     "output_type": "stream",
     "text": [
      "k=1 Test Acc: 0.532\n"
     ]
    }
   ],
   "source": [
    "# Note that k: 7 seems to be the best choice for this dataset\n",
    "knn = KNeighborsClassifier(n_neighbors=7)\n",
    "knn.fit(X_train, y_train)\n",
    "print('k=1 Test Acc: %.3f' % knn.score(X_test, y_test))"
   ]
  },
  {
   "cell_type": "code",
   "execution_count": 49,
   "metadata": {},
   "outputs": [
    {
     "name": "stdout",
     "output_type": "stream",
     "text": [
      "['S4']\n"
     ]
    }
   ],
   "source": [
    "new_data = [[3,2,39368]]\n",
    "predicted_class = knn.predict(new_data)\n",
    "print(predicted_class)"
   ]
  },
  {
   "cell_type": "code",
   "execution_count": null,
   "metadata": {},
   "outputs": [],
   "source": []
  }
 ],
 "metadata": {
  "kernelspec": {
   "display_name": "Python 3",
   "language": "python",
   "name": "python3"
  },
  "language_info": {
   "codemirror_mode": {
    "name": "ipython",
    "version": 3
   },
   "file_extension": ".py",
   "mimetype": "text/x-python",
   "name": "python",
   "nbconvert_exporter": "python",
   "pygments_lexer": "ipython3",
   "version": "3.7.0"
  }
 },
 "nbformat": 4,
 "nbformat_minor": 2
}

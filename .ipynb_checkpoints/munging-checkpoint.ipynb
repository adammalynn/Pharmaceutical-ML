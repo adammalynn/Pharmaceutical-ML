{
 "cells": [
  {
   "cell_type": "code",
   "execution_count": 2,
   "metadata": {},
   "outputs": [],
   "source": [
    "# Dependencies\n",
    "import pandas as pd\n",
    "import numpy as np"
   ]
  },
  {
   "cell_type": "code",
   "execution_count": 3,
   "metadata": {},
   "outputs": [],
   "source": [
    "#import csv file\n",
    "file = 'lumab_stab_scrubbed.csv'"
   ]
  },
  {
   "cell_type": "code",
   "execution_count": 4,
   "metadata": {},
   "outputs": [],
   "source": [
    "df = pd.read_csv(file, encoding=\"ISO-8859-1\")"
   ]
  },
  {
   "cell_type": "code",
   "execution_count": 5,
   "metadata": {},
   "outputs": [
    {
     "data": {
      "text/html": [
       "<div>\n",
       "<style scoped>\n",
       "    .dataframe tbody tr th:only-of-type {\n",
       "        vertical-align: middle;\n",
       "    }\n",
       "\n",
       "    .dataframe tbody tr th {\n",
       "        vertical-align: top;\n",
       "    }\n",
       "\n",
       "    .dataframe thead th {\n",
       "        text-align: right;\n",
       "    }\n",
       "</style>\n",
       "<table border=\"1\" class=\"dataframe\">\n",
       "  <thead>\n",
       "    <tr style=\"text-align: right;\">\n",
       "      <th></th>\n",
       "      <th>Unnamed: 0</th>\n",
       "      <th>TIMEPOINT</th>\n",
       "      <th>NAME</th>\n",
       "      <th>ENTRY</th>\n",
       "      <th>CONDITION</th>\n",
       "      <th>PRODUCT</th>\n",
       "      <th>Sample-Number</th>\n",
       "      <th>Lot</th>\n",
       "    </tr>\n",
       "  </thead>\n",
       "  <tbody>\n",
       "    <tr>\n",
       "      <th>0</th>\n",
       "      <td>0</td>\n",
       "      <td>06M</td>\n",
       "      <td>Deamidation</td>\n",
       "      <td>3.5</td>\n",
       "      <td>5C</td>\n",
       "      <td>Lumab</td>\n",
       "      <td>21573</td>\n",
       "      <td>39360</td>\n",
       "    </tr>\n",
       "    <tr>\n",
       "      <th>1</th>\n",
       "      <td>1</td>\n",
       "      <td>09M</td>\n",
       "      <td>Deamidation</td>\n",
       "      <td>3.3</td>\n",
       "      <td>5C</td>\n",
       "      <td>Lumab</td>\n",
       "      <td>21575</td>\n",
       "      <td>39360</td>\n",
       "    </tr>\n",
       "    <tr>\n",
       "      <th>2</th>\n",
       "      <td>2</td>\n",
       "      <td>12M</td>\n",
       "      <td>Deamidation</td>\n",
       "      <td>4.3</td>\n",
       "      <td>5C</td>\n",
       "      <td>Lumab</td>\n",
       "      <td>21578</td>\n",
       "      <td>39360</td>\n",
       "    </tr>\n",
       "    <tr>\n",
       "      <th>3</th>\n",
       "      <td>3</td>\n",
       "      <td>24M</td>\n",
       "      <td>Deamidation</td>\n",
       "      <td>3.644508337</td>\n",
       "      <td>5C</td>\n",
       "      <td>Lumab</td>\n",
       "      <td>95206</td>\n",
       "      <td>39404</td>\n",
       "    </tr>\n",
       "    <tr>\n",
       "      <th>4</th>\n",
       "      <td>4</td>\n",
       "      <td>24M</td>\n",
       "      <td>Deamidation</td>\n",
       "      <td>3.992744093</td>\n",
       "      <td>5C</td>\n",
       "      <td>Lumab</td>\n",
       "      <td>95209</td>\n",
       "      <td>39408</td>\n",
       "    </tr>\n",
       "  </tbody>\n",
       "</table>\n",
       "</div>"
      ],
      "text/plain": [
       "   Unnamed: 0 TIMEPOINT         NAME        ENTRY CONDITION PRODUCT  \\\n",
       "0           0       06M  Deamidation          3.5        5C   Lumab   \n",
       "1           1       09M  Deamidation          3.3        5C   Lumab   \n",
       "2           2       12M  Deamidation          4.3        5C   Lumab   \n",
       "3           3       24M  Deamidation  3.644508337        5C   Lumab   \n",
       "4           4       24M  Deamidation  3.992744093        5C   Lumab   \n",
       "\n",
       "   Sample-Number    Lot  \n",
       "0          21573  39360  \n",
       "1          21575  39360  \n",
       "2          21578  39360  \n",
       "3          95206  39404  \n",
       "4          95209  39408  "
      ]
     },
     "execution_count": 5,
     "metadata": {},
     "output_type": "execute_result"
    }
   ],
   "source": [
    "df.head()"
   ]
  }
 ],
 "metadata": {
  "kernelspec": {
   "display_name": "Python 3",
   "language": "python",
   "name": "python3"
  },
  "language_info": {
   "codemirror_mode": {
    "name": "ipython",
    "version": 3
   },
   "file_extension": ".py",
   "mimetype": "text/x-python",
   "name": "python",
   "nbconvert_exporter": "python",
   "pygments_lexer": "ipython3",
   "version": "3.6.6"
  }
 },
 "nbformat": 4,
 "nbformat_minor": 2
}

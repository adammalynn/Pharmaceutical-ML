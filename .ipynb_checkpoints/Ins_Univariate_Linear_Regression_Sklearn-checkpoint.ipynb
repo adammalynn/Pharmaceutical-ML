{
 "cells": [
  {
   "cell_type": "code",
   "execution_count": null,
   "metadata": {
    "nbpresent": {
     "id": "828c2e12-b1c6-4994-8f55-ce86373b6c97"
    },
    "slideshow": {
     "slide_type": "fragment"
    }
   },
   "outputs": [],
   "source": [
    "%matplotlib inline\n",
    "import matplotlib.pyplot as plt\n",
    "import numpy as np\n",
    "import pandas as pd"
   ]
  },
  {
   "cell_type": "markdown",
   "metadata": {
    "nbpresent": {
     "id": "0dc0cdcb-d8df-4a29-a0d2-a3cf6cc889ce"
    },
    "slideshow": {
     "slide_type": "slide"
    }
   },
   "source": [
    "# Linear Regression"
   ]
  },
  {
   "cell_type": "markdown",
   "metadata": {
    "nbpresent": {
     "id": "91401f60-44eb-42b2-86ea-c82b5e955ace"
    },
    "slideshow": {
     "slide_type": "subslide"
    }
   },
   "source": [
    "Linear Regression is a fundamental algorithm in machine learning"
   ]
  },
  {
   "cell_type": "markdown",
   "metadata": {
    "nbpresent": {
     "id": "966e050d-5739-4ef9-a2ae-9a4957e14f3e"
    },
    "slideshow": {
     "slide_type": "fragment"
    }
   },
   "source": [
    "It is used as a building block for other ML models"
   ]
  },
  {
   "cell_type": "markdown",
   "metadata": {
    "nbpresent": {
     "id": "7068c96d-f8f0-42bb-bdfd-dcbf9335323c"
    },
    "slideshow": {
     "slide_type": "fragment"
    }
   },
   "source": [
    "LR is easy to understand, calculate, and interpret"
   ]
  },
  {
   "cell_type": "markdown",
   "metadata": {
    "nbpresent": {
     "id": "6de4dae8-c949-4927-89a3-9741aba83e8d"
    },
    "slideshow": {
     "slide_type": "fragment"
    }
   },
   "source": [
    "LR is fast!"
   ]
  },
  {
   "cell_type": "markdown",
   "metadata": {
    "nbpresent": {
     "id": "7c23961d-86fe-4d07-bc58-6d61f03c3731"
    },
    "slideshow": {
     "slide_type": "subslide"
    }
   },
   "source": [
    "Often good enough. Don't over-engineer your solution. If your data is linear then use a linear model."
   ]
  },
  {
   "cell_type": "markdown",
   "metadata": {
    "nbpresent": {
     "id": "6d53481c-69ff-41a0-937e-4e8a39e2b2b5"
    },
    "slideshow": {
     "slide_type": "subslide"
    }
   },
   "source": [
    "What is linear data?"
   ]
  },
  {
   "cell_type": "code",
   "execution_count": null,
   "metadata": {
    "nbpresent": {
     "id": "b0f8400f-71e1-4892-9012-88e54c053a36"
    },
    "slideshow": {
     "slide_type": "fragment"
    }
   },
   "outputs": [],
   "source": [
    "from sklearn.datasets import make_regression\n",
    "\n",
    "X, y = make_regression(n_samples=20, n_features=1, random_state=0, noise=4, bias=100.0)"
   ]
  },
  {
   "cell_type": "code",
   "execution_count": null,
   "metadata": {
    "nbpresent": {
     "id": "fb58a52c-71e9-402d-af86-eab194cf8050"
    },
    "scrolled": true,
    "slideshow": {
     "slide_type": "subslide"
    }
   },
   "outputs": [],
   "source": [
    "plt.scatter(X, y)"
   ]
  },
  {
   "cell_type": "markdown",
   "metadata": {
    "nbpresent": {
     "id": "241f356d-567a-421d-b27c-7ce2d146d1bb"
    },
    "slideshow": {
     "slide_type": "fragment"
    }
   },
   "source": [
    "The response or output is directly proportional to the input"
   ]
  },
  {
   "cell_type": "markdown",
   "metadata": {
    "nbpresent": {
     "id": "fa78fa75-54cf-40d3-b52c-4b51c5070d9a"
    },
    "slideshow": {
     "slide_type": "fragment"
    }
   },
   "source": [
    "We can see from the data that we have a linear trend in our model. (The response or output is directly proportional to the input)"
   ]
  },
  {
   "cell_type": "markdown",
   "metadata": {
    "nbpresent": {
     "id": "335f050d-99af-43b3-a5ec-69fe896e48e2"
    },
    "slideshow": {
     "slide_type": "subslide"
    }
   },
   "source": [
    "We can use Linear Regression to fit a line through the data."
   ]
  },
  {
   "cell_type": "markdown",
   "metadata": {
    "nbpresent": {
     "id": "19ca6a7e-4b5d-4b0f-88c5-e68634abb65d"
    },
    "slideshow": {
     "slide_type": "fragment"
    }
   },
   "source": [
    "![lr](../Images/linear_regression.jpg)"
   ]
  },
  {
   "cell_type": "markdown",
   "metadata": {
    "nbpresent": {
     "id": "7317e4f2-150e-4336-ac48-d82641441aa8"
    },
    "slideshow": {
     "slide_type": "subslide"
    }
   },
   "source": [
    "Using a trained model allows us to make predictions of the output value (Home Selling Price) given a new input (Number of Bathrooms)."
   ]
  },
  {
   "cell_type": "markdown",
   "metadata": {
    "nbpresent": {
     "id": "69b638ed-ed32-4824-bb81-df958c215a33"
    },
    "slideshow": {
     "slide_type": "fragment"
    }
   },
   "source": [
    "![pre-prices1](../Images/predict_prices_1.png)"
   ]
  },
  {
   "cell_type": "markdown",
   "metadata": {
    "nbpresent": {
     "id": "664c64ef-5517-4725-95cb-874bbc7711c7"
    },
    "slideshow": {
     "slide_type": "subslide"
    }
   },
   "source": [
    "New House on the Market\n",
    "![pre-prices2](../Images/predict_prices_2.png)"
   ]
  },
  {
   "cell_type": "markdown",
   "metadata": {
    "nbpresent": {
     "id": "348e164e-a000-4def-92c0-db93f9a617a1"
    },
    "slideshow": {
     "slide_type": "subslide"
    }
   },
   "source": [
    "We can use our linear model to predict the price of that house\n",
    "![pre-prices3](../Images/predict_prices_3.png)"
   ]
  },
  {
   "cell_type": "markdown",
   "metadata": {
    "nbpresent": {
     "id": "a3b6e99c-2c85-47da-b29b-3b53c3c309b8"
    },
    "slideshow": {
     "slide_type": "subslide"
    }
   },
   "source": [
    "What about non-linear data?"
   ]
  },
  {
   "cell_type": "code",
   "execution_count": null,
   "metadata": {
    "nbpresent": {
     "id": "4d6b8af6-438e-4034-bda1-1f977cf12441"
    },
    "slideshow": {
     "slide_type": "fragment"
    }
   },
   "outputs": [],
   "source": [
    "from sklearn.datasets import make_s_curve\n",
    "\n",
    "data, color = make_s_curve(100, random_state=0)\n",
    "plt.scatter(data[:,0], color)"
   ]
  },
  {
   "cell_type": "markdown",
   "metadata": {
    "nbpresent": {
     "id": "e61ba538-5828-4a5a-a2c5-4fcceac35889"
    },
    "slideshow": {
     "slide_type": "subslide"
    }
   },
   "source": [
    "![happy](../Images/happy.gif)"
   ]
  },
  {
   "cell_type": "markdown",
   "metadata": {
    "nbpresent": {
     "id": "f1c699bc-6717-4eb9-8e6d-66d433ba4618"
    },
    "slideshow": {
     "slide_type": "slide"
    }
   },
   "source": [
    "## Linear Regression \n",
    "\n",
    "A regression line is simply calculating a line that best fits the data. This is typically done through the least squares method where the line is chosen to have the smallest overall distance to the points.\n",
    "\n",
    "$y = \\theta_0 + \\theta_1 x$\n",
    "\n",
    "* $y$ is the output response\n",
    "* $x$ is the input feature\n",
    "* $\\theta_0$ is the y-axis intercept\n",
    "* $\\theta_1$ is weight coefficient (slope)\n"
   ]
  },
  {
   "cell_type": "markdown",
   "metadata": {
    "nbpresent": {
     "id": "7d5d2002-5cae-4d5f-8e2e-d5eaf5cd17da"
    },
    "slideshow": {
     "slide_type": "slide"
    }
   },
   "source": [
    "## Sklearn\n",
    "\n",
    "The Sklearn library provides us with a Linear Regression model that will fit a line to our data. Sklearn follows a consistent API where you define a model object, fit the model to the data, and then make predictions with the model.\n",
    "![sklearn](../Images/sklearn_api.png)"
   ]
  },
  {
   "cell_type": "markdown",
   "metadata": {
    "nbpresent": {
     "id": "69fab88f-0864-47cc-933b-eaffb638cbf3"
    },
    "slideshow": {
     "slide_type": "subslide"
    }
   },
   "source": [
    "First, we create the model using the Sklearn LinearRegression model."
   ]
  },
  {
   "cell_type": "code",
   "execution_count": null,
   "metadata": {
    "nbpresent": {
     "id": "3810c2af-fdbe-4f01-bc9f-2bb1a8ae70c6"
    },
    "slideshow": {
     "slide_type": "fragment"
    }
   },
   "outputs": [],
   "source": [
    "from sklearn.linear_model import LinearRegression\n",
    "model = LinearRegression()\n",
    "model"
   ]
  },
  {
   "cell_type": "markdown",
   "metadata": {
    "nbpresent": {
     "id": "c3820b22-bf55-4dca-ba8b-f08060567b6e"
    },
    "slideshow": {
     "slide_type": "subslide"
    }
   },
   "source": [
    "Next, we fit the model to our data using the fit method. "
   ]
  },
  {
   "cell_type": "code",
   "execution_count": null,
   "metadata": {
    "nbpresent": {
     "id": "aeeeb44d-7825-4050-b7ba-70813bd3396b"
    },
    "slideshow": {
     "slide_type": "fragment"
    }
   },
   "outputs": [],
   "source": [
    "model.fit(X, y)\n",
    "print(model)"
   ]
  },
  {
   "cell_type": "markdown",
   "metadata": {
    "nbpresent": {
     "id": "2e255efc-6ae1-4554-b32f-9400b47007c9"
    },
    "slideshow": {
     "slide_type": "subslide"
    }
   },
   "source": [
    "We can view the coefficients and intercept of the line from the `coef_` and `intercept_` attributes. Note that the `_` suffix indicates that the attribute is available after model is fit to the data (trained)."
   ]
  },
  {
   "cell_type": "code",
   "execution_count": null,
   "metadata": {
    "nbpresent": {
     "id": "9bfbb27b-cae0-4feb-809a-77718bb2e6a3"
    },
    "slideshow": {
     "slide_type": "fragment"
    }
   },
   "outputs": [],
   "source": [
    "print('Weight coefficients: ', model.coef_)\n",
    "print('y-axis intercept: ', model.intercept_) "
   ]
  },
  {
   "cell_type": "markdown",
   "metadata": {
    "nbpresent": {
     "id": "711a40c8-c479-448b-a3bc-5c7ff8369838"
    },
    "slideshow": {
     "slide_type": "fragment"
    }
   },
   "source": [
    "Our linear model now looks like this: \n",
    "\n",
    "$y = 101.896225057 + 12.44002424 x$\n"
   ]
  },
  {
   "cell_type": "markdown",
   "metadata": {
    "nbpresent": {
     "id": "e54b79a1-316d-4fd1-ad5f-6cd580b51f99"
    },
    "slideshow": {
     "slide_type": "subslide"
    }
   },
   "source": [
    "We can use our model to make predictions."
   ]
  },
  {
   "cell_type": "code",
   "execution_count": null,
   "metadata": {
    "nbpresent": {
     "id": "3d860568-b048-40f2-a64d-f585211d6c1c"
    },
    "slideshow": {
     "slide_type": "fragment"
    }
   },
   "outputs": [],
   "source": [
    "predictions = model.predict(X)\n",
    "print(f\"True output: {y[0]}\")\n",
    "print(f\"Predicted output: {predictions[0]}\")\n",
    "print(f\"Prediction Error: {predictions[0]-y[0]}\")"
   ]
  },
  {
   "cell_type": "code",
   "execution_count": null,
   "metadata": {
    "nbpresent": {
     "id": "a6d0bdff-9bba-472e-b354-da47b8761dbe"
    },
    "slideshow": {
     "slide_type": "subslide"
    }
   },
   "outputs": [],
   "source": [
    "pd.DataFrame({\"Predicted\": predictions, \"Actual\": y, \"Error\": predictions - y})[[\"Predicted\", \"Actual\", \"Error\"]]"
   ]
  },
  {
   "cell_type": "markdown",
   "metadata": {
    "nbpresent": {
     "id": "d7df6fa0-ce96-4073-b95d-ce78b3f4fdf1"
    },
    "slideshow": {
     "slide_type": "subslide"
    }
   },
   "source": [
    "We can calculate the output response for the minimum and maximum input values. Note: This is useful later when we want to plot the fit line."
   ]
  },
  {
   "cell_type": "code",
   "execution_count": null,
   "metadata": {
    "nbpresent": {
     "id": "28aaab45-1e14-4db5-9d2c-63b239cafe13"
    },
    "slideshow": {
     "slide_type": "fragment"
    }
   },
   "outputs": [],
   "source": [
    "x_min = X.min()\n",
    "x_max = X.max()"
   ]
  },
  {
   "cell_type": "code",
   "execution_count": null,
   "metadata": {
    "nbpresent": {
     "id": "5e425283-82de-4c48-b2ae-31a1d6983849"
    },
    "slideshow": {
     "slide_type": "fragment"
    }
   },
   "outputs": [],
   "source": [
    "y_min_actual = y.min()\n",
    "y_max_actual = y.max()"
   ]
  },
  {
   "cell_type": "code",
   "execution_count": null,
   "metadata": {
    "nbpresent": {
     "id": "4a5226b5-d431-4cbe-86a6-291952a45a37"
    },
    "slideshow": {
     "slide_type": "fragment"
    }
   },
   "outputs": [],
   "source": [
    "y_min = 101.896225057 + 12.44002424 * x_min\n",
    "y_max = 101.896225057 + 12.44002424 * x_max\n",
    "print(f\"Actual Min Value: {y_min_actual}\")\n",
    "print(f\"Calculated Min Value: {y_min}\")\n",
    "print(f\"Actual Max Value: {y_max_actual}\")\n",
    "print(f\"Calculated Max Value: {y_max}\")"
   ]
  },
  {
   "cell_type": "markdown",
   "metadata": {
    "nbpresent": {
     "id": "46550b81-7dd8-4efc-b710-0f10002c9f2b"
    },
    "slideshow": {
     "slide_type": "subslide"
    }
   },
   "source": [
    "We can also use the predict function to calculate predicted values"
   ]
  },
  {
   "cell_type": "code",
   "execution_count": null,
   "metadata": {
    "nbpresent": {
     "id": "2b83c32a-d7e2-4db6-b45f-afbbf028fe90"
    },
    "slideshow": {
     "slide_type": "fragment"
    }
   },
   "outputs": [],
   "source": [
    "y_min_predicted = model.predict(x_min)\n",
    "y_max_predicted = model.predict(x_max)\n",
    "print(f\"Actual Min Value: {y_min_actual}\")\n",
    "print(f\"Predicted Min Value: {y_min_predicted}\")\n",
    "print(f\"Actual Max Value: {y_max_actual}\")\n",
    "print(f\"Predicted Max Value: {y_max_predicted}\")"
   ]
  },
  {
   "cell_type": "markdown",
   "metadata": {
    "nbpresent": {
     "id": "318099ba-93dd-4c2c-a3ee-fc6622c472c8"
    },
    "slideshow": {
     "slide_type": "subslide"
    }
   },
   "source": [
    "We can show the model fit by plotting the predicted values against the original data"
   ]
  },
  {
   "cell_type": "code",
   "execution_count": null,
   "metadata": {
    "nbpresent": {
     "id": "8bb35ef7-00cc-4ad9-9dd4-6fac480df38e"
    },
    "slideshow": {
     "slide_type": "fragment"
    }
   },
   "outputs": [],
   "source": [
    "plt.scatter(X, y, c='blue')\n",
    "plt.plot([x_min, x_max], [y_min, y_max], c='red')"
   ]
  },
  {
   "cell_type": "markdown",
   "metadata": {
    "nbpresent": {
     "id": "67aab8fa-45cd-4ede-8285-e3dad22d8b16"
    },
    "slideshow": {
     "slide_type": "slide"
    }
   },
   "source": [
    "## Your Turn!"
   ]
  }
 ],
 "metadata": {
  "anaconda-cloud": {},
  "celltoolbar": "Slideshow",
  "kernelspec": {
   "display_name": "Python 3",
   "language": "python",
   "name": "python3"
  },
  "language_info": {
   "codemirror_mode": {
    "name": "ipython",
    "version": 3
   },
   "file_extension": ".py",
   "mimetype": "text/x-python",
   "name": "python",
   "nbconvert_exporter": "python",
   "pygments_lexer": "ipython3",
   "version": "3.6.6"
  },
  "nbpresent": {
   "slides": {
    "03210a56-863e-4749-b7ba-ed75bfceceee": {
     "id": "03210a56-863e-4749-b7ba-ed75bfceceee",
     "prev": "86b3b05f-6e9a-49dc-8a83-97f72c348c5f",
     "regions": {
      "2be9481c-cff7-4f32-b835-90f2a2cb989a": {
       "attrs": {
        "height": 0.8,
        "width": 0.8,
        "x": 0.1,
        "y": 0.1
       },
       "content": {
        "cell": "46550b81-7dd8-4efc-b710-0f10002c9f2b",
        "part": "whole"
       },
       "id": "2be9481c-cff7-4f32-b835-90f2a2cb989a"
      },
      "3f484569-30ec-4529-8d3c-ac88b8c6dbfb": {
       "attrs": {
        "height": 0.4,
        "width": 0.8,
        "x": 0.1,
        "y": 0.5
       },
       "content": {
        "cell": "2b83c32a-d7e2-4db6-b45f-afbbf028fe90",
        "part": "whole"
       },
       "id": "3f484569-30ec-4529-8d3c-ac88b8c6dbfb"
      }
     }
    },
    "22531930-3fc8-45ff-a4f1-32e94c1d1455": {
     "id": "22531930-3fc8-45ff-a4f1-32e94c1d1455",
     "prev": "8eb735f6-11af-4f77-a4ed-b637fb18ac08",
     "regions": {
      "1407c818-c9fd-470e-8260-6b6904d888de": {
       "attrs": {
        "height": 0.8,
        "width": 0.8,
        "x": 0.1,
        "y": 0.1
       },
       "content": {
        "cell": "664c64ef-5517-4725-95cb-874bbc7711c7",
        "part": "whole"
       },
       "id": "1407c818-c9fd-470e-8260-6b6904d888de"
      }
     }
    },
    "29c55765-6994-4dbf-b82f-117b4f1e0cee": {
     "id": "29c55765-6994-4dbf-b82f-117b4f1e0cee",
     "prev": "b7c25bc1-4dd7-421b-9951-0c0c403c176d",
     "regions": {
      "44583f15-ec4f-4aec-8e7c-f01652e954fc": {
       "attrs": {
        "height": 0.8,
        "width": 0.8,
        "x": 0.1,
        "y": 0.1
       },
       "content": {
        "cell": "7c23961d-86fe-4d07-bc58-6d61f03c3731",
        "part": "whole"
       },
       "id": "44583f15-ec4f-4aec-8e7c-f01652e954fc"
      }
     }
    },
    "39c5764b-ab2c-4aae-8500-dc39319e4d38": {
     "id": "39c5764b-ab2c-4aae-8500-dc39319e4d38",
     "prev": "22531930-3fc8-45ff-a4f1-32e94c1d1455",
     "regions": {
      "d0237596-8095-44dc-81c6-6d9c6b204684": {
       "attrs": {
        "height": 0.8,
        "width": 0.8,
        "x": 0.1,
        "y": 0.1
       },
       "content": {
        "cell": "348e164e-a000-4def-92c0-db93f9a617a1",
        "part": "whole"
       },
       "id": "d0237596-8095-44dc-81c6-6d9c6b204684"
      }
     }
    },
    "39e950f1-f2c4-422a-8f45-835c5c61e7e0": {
     "id": "39e950f1-f2c4-422a-8f45-835c5c61e7e0",
     "prev": "4b5f1824-db4a-4ef3-9515-a88d3f2276c1",
     "regions": {
      "0a72cc48-c38f-4e8c-94d3-3198eccde68a": {
       "attrs": {
        "height": 0.8,
        "width": 0.8,
        "x": 0.1,
        "y": 0.1
       },
       "content": {
        "cell": "c3820b22-bf55-4dca-ba8b-f08060567b6e",
        "part": "whole"
       },
       "id": "0a72cc48-c38f-4e8c-94d3-3198eccde68a"
      },
      "b49c6eca-318f-41b8-a7a5-a620d18f639c": {
       "attrs": {
        "height": 0.4,
        "width": 0.8,
        "x": 0.1,
        "y": 0.5
       },
       "content": {
        "cell": "aeeeb44d-7825-4050-b7ba-70813bd3396b",
        "part": "whole"
       },
       "id": "b49c6eca-318f-41b8-a7a5-a620d18f639c"
      }
     }
    },
    "4792c0cc-ccd4-48bf-9b0e-a3c1f0f3008d": {
     "id": "4792c0cc-ccd4-48bf-9b0e-a3c1f0f3008d",
     "prev": "39c5764b-ab2c-4aae-8500-dc39319e4d38",
     "regions": {
      "d4adae26-ff2f-4a81-ad91-fd3a9bfd965c": {
       "attrs": {
        "height": 0.4,
        "width": 0.8,
        "x": 0.1,
        "y": 0.5
       },
       "content": {
        "cell": "4d6b8af6-438e-4034-bda1-1f977cf12441",
        "part": "whole"
       },
       "id": "d4adae26-ff2f-4a81-ad91-fd3a9bfd965c"
      },
      "d75a8261-ee89-4f4d-b388-2f429e112f44": {
       "attrs": {
        "height": 0.8,
        "width": 0.8,
        "x": 0.1,
        "y": 0.1
       },
       "content": {
        "cell": "a3b6e99c-2c85-47da-b29b-3b53c3c309b8",
        "part": "whole"
       },
       "id": "d75a8261-ee89-4f4d-b388-2f429e112f44"
      }
     }
    },
    "4b5f1824-db4a-4ef3-9515-a88d3f2276c1": {
     "id": "4b5f1824-db4a-4ef3-9515-a88d3f2276c1",
     "prev": "e92a9020-6631-400a-aa50-46c1fa0a5f0c",
     "regions": {
      "2bd81133-11e3-48df-bf12-2d0a57949bca": {
       "attrs": {
        "height": 0.8,
        "width": 0.8,
        "x": 0.1,
        "y": 0.1
       },
       "content": {
        "cell": "69fab88f-0864-47cc-933b-eaffb638cbf3",
        "part": "whole"
       },
       "id": "2bd81133-11e3-48df-bf12-2d0a57949bca"
      },
      "d3322861-28ab-4f1e-8a1f-3a7f4d3da8c1": {
       "attrs": {
        "height": 0.4,
        "width": 0.8,
        "x": 0.1,
        "y": 0.5
       },
       "content": {
        "cell": "3810c2af-fdbe-4f01-bc9f-2bb1a8ae70c6",
        "part": "whole"
       },
       "id": "d3322861-28ab-4f1e-8a1f-3a7f4d3da8c1"
      }
     }
    },
    "57992fb9-2f74-4e8e-8772-7b9f04606a56": {
     "id": "57992fb9-2f74-4e8e-8772-7b9f04606a56",
     "prev": "595093b4-3f86-406c-abb5-aea78e1241b3",
     "regions": {
      "3b3c8191-9f7e-4ab2-afac-b2b47008484a": {
       "attrs": {
        "height": 0.8,
        "width": 0.8,
        "x": 0.1,
        "y": 0.1
       },
       "content": {
        "cell": "a6d0bdff-9bba-472e-b354-da47b8761dbe",
        "part": "whole"
       },
       "id": "3b3c8191-9f7e-4ab2-afac-b2b47008484a"
      }
     }
    },
    "5907f515-df93-4e86-82c6-b8721b6e6346": {
     "id": "5907f515-df93-4e86-82c6-b8721b6e6346",
     "prev": "39e950f1-f2c4-422a-8f45-835c5c61e7e0",
     "regions": {
      "22f9005a-ed7a-4399-b501-497565ada2da": {
       "attrs": {
        "height": 0.8,
        "width": 0.8,
        "x": 0.1,
        "y": 0.1
       },
       "content": {
        "cell": "2e255efc-6ae1-4554-b32f-9400b47007c9",
        "part": "whole"
       },
       "id": "22f9005a-ed7a-4399-b501-497565ada2da"
      },
      "82d64cef-48f7-413c-ad01-e7fa2921f7c0": {
       "attrs": {
        "height": 0.4,
        "width": 0.8,
        "x": 0.1,
        "y": 0.5
       },
       "content": {
        "cell": "711a40c8-c479-448b-a3bc-5c7ff8369838",
        "part": "whole"
       },
       "id": "82d64cef-48f7-413c-ad01-e7fa2921f7c0"
      },
      "d943d3ea-6cd3-4d4a-8914-7fea0231efda": {
       "attrs": {
        "height": 0.4,
        "width": 0.8,
        "x": 0.1,
        "y": 0.5
       },
       "content": {
        "cell": "9bfbb27b-cae0-4feb-809a-77718bb2e6a3",
        "part": "whole"
       },
       "id": "d943d3ea-6cd3-4d4a-8914-7fea0231efda"
      }
     }
    },
    "595093b4-3f86-406c-abb5-aea78e1241b3": {
     "id": "595093b4-3f86-406c-abb5-aea78e1241b3",
     "prev": "5907f515-df93-4e86-82c6-b8721b6e6346",
     "regions": {
      "3366a1dc-6c33-45f0-a97f-a2744ed0587f": {
       "attrs": {
        "height": 0.8,
        "width": 0.8,
        "x": 0.1,
        "y": 0.1
       },
       "content": {
        "cell": "e54b79a1-316d-4fd1-ad5f-6cd580b51f99",
        "part": "whole"
       },
       "id": "3366a1dc-6c33-45f0-a97f-a2744ed0587f"
      },
      "40b6dba8-5994-4fd0-9ce5-9d36f3bb9f93": {
       "attrs": {
        "height": 0.4,
        "width": 0.8,
        "x": 0.1,
        "y": 0.5
       },
       "content": {
        "cell": "3d860568-b048-40f2-a64d-f585211d6c1c",
        "part": "whole"
       },
       "id": "40b6dba8-5994-4fd0-9ce5-9d36f3bb9f93"
      }
     }
    },
    "76838eab-c2c3-4ff3-b09f-854a7c74c6d4": {
     "id": "76838eab-c2c3-4ff3-b09f-854a7c74c6d4",
     "prev": null,
     "regions": {
      "b0032c00-1d89-4c94-a7a0-488f243c381e": {
       "attrs": {
        "height": 0.8,
        "width": 0.8,
        "x": 0.1,
        "y": 0.1
       },
       "content": {
        "cell": "0dc0cdcb-d8df-4a29-a0d2-a3cf6cc889ce",
        "part": "whole"
       },
       "id": "b0032c00-1d89-4c94-a7a0-488f243c381e"
      }
     }
    },
    "7a25817a-e5bc-4021-9c6b-61bc74dbdb92": {
     "id": "7a25817a-e5bc-4021-9c6b-61bc74dbdb92",
     "prev": "b04719fc-934a-404b-a642-dc732a3d1589",
     "regions": {
      "38d56409-500a-45cf-8e79-722d68d8fc38": {
       "attrs": {
        "height": 0.8,
        "width": 0.8,
        "x": 0.1,
        "y": 0.1
       },
       "content": {
        "cell": "335f050d-99af-43b3-a5ec-69fe896e48e2",
        "part": "whole"
       },
       "id": "38d56409-500a-45cf-8e79-722d68d8fc38"
      },
      "c838cb6d-409c-4c17-a1eb-3d7dc6aab32b": {
       "attrs": {
        "height": 0.4,
        "width": 0.8,
        "x": 0.1,
        "y": 0.5
       },
       "content": {
        "cell": "19ca6a7e-4b5d-4b0f-88c5-e68634abb65d",
        "part": "whole"
       },
       "id": "c838cb6d-409c-4c17-a1eb-3d7dc6aab32b"
      }
     }
    },
    "86b3b05f-6e9a-49dc-8a83-97f72c348c5f": {
     "id": "86b3b05f-6e9a-49dc-8a83-97f72c348c5f",
     "prev": "57992fb9-2f74-4e8e-8772-7b9f04606a56",
     "regions": {
      "49a41ef6-224d-46c1-bb81-254b8a4cee88": {
       "attrs": {
        "height": 0.8,
        "width": 0.8,
        "x": 0.1,
        "y": 0.1
       },
       "content": {
        "cell": "d7df6fa0-ce96-4073-b95d-ce78b3f4fdf1",
        "part": "whole"
       },
       "id": "49a41ef6-224d-46c1-bb81-254b8a4cee88"
      },
      "7ce316ab-4799-4e15-b095-374da21bc1aa": {
       "attrs": {
        "height": 0.4,
        "width": 0.8,
        "x": 0.1,
        "y": 0.5
       },
       "content": {
        "cell": "4a5226b5-d431-4cbe-86a6-291952a45a37",
        "part": "whole"
       },
       "id": "7ce316ab-4799-4e15-b095-374da21bc1aa"
      },
      "a7d701c6-61e3-48e3-8e0d-a4b318aef7d8": {
       "attrs": {
        "height": 0.4,
        "width": 0.8,
        "x": 0.1,
        "y": 0.5
       },
       "content": {
        "cell": "5e425283-82de-4c48-b2ae-31a1d6983849",
        "part": "whole"
       },
       "id": "a7d701c6-61e3-48e3-8e0d-a4b318aef7d8"
      },
      "e180cf23-71a7-46a8-8598-86a079bd7d78": {
       "attrs": {
        "height": 0.4,
        "width": 0.8,
        "x": 0.1,
        "y": 0.5
       },
       "content": {
        "cell": "28aaab45-1e14-4db5-9d2c-63b239cafe13",
        "part": "whole"
       },
       "id": "e180cf23-71a7-46a8-8598-86a079bd7d78"
      }
     }
    },
    "8eb735f6-11af-4f77-a4ed-b637fb18ac08": {
     "id": "8eb735f6-11af-4f77-a4ed-b637fb18ac08",
     "prev": "7a25817a-e5bc-4021-9c6b-61bc74dbdb92",
     "regions": {
      "ca38ef02-01f9-42cb-9e35-d67f8d665597": {
       "attrs": {
        "height": 0.4,
        "width": 0.8,
        "x": 0.1,
        "y": 0.5
       },
       "content": {
        "cell": "69b638ed-ed32-4824-bb81-df958c215a33",
        "part": "whole"
       },
       "id": "ca38ef02-01f9-42cb-9e35-d67f8d665597"
      },
      "fc52547b-a8f8-40e2-9397-5b18ca2b71b3": {
       "attrs": {
        "height": 0.8,
        "width": 0.8,
        "x": 0.1,
        "y": 0.1
       },
       "content": {
        "cell": "7317e4f2-150e-4336-ac48-d82641441aa8",
        "part": "whole"
       },
       "id": "fc52547b-a8f8-40e2-9397-5b18ca2b71b3"
      }
     }
    },
    "af2f5933-b31d-4d30-b08a-e4c09432b9bb": {
     "id": "af2f5933-b31d-4d30-b08a-e4c09432b9bb",
     "prev": "29c55765-6994-4dbf-b82f-117b4f1e0cee",
     "regions": {
      "479b436f-50bb-4c3a-9a4e-748e85eacde6": {
       "attrs": {
        "height": 0.8,
        "width": 0.8,
        "x": 0.1,
        "y": 0.1
       },
       "content": {
        "cell": "6d53481c-69ff-41a0-937e-4e8a39e2b2b5",
        "part": "whole"
       },
       "id": "479b436f-50bb-4c3a-9a4e-748e85eacde6"
      },
      "a02a5bdc-cab5-4ddc-aa9d-8ee5e0db6bd4": {
       "attrs": {
        "height": 0.4,
        "width": 0.8,
        "x": 0.1,
        "y": 0.5
       },
       "content": {
        "cell": "b0f8400f-71e1-4892-9012-88e54c053a36",
        "part": "whole"
       },
       "id": "a02a5bdc-cab5-4ddc-aa9d-8ee5e0db6bd4"
      }
     }
    },
    "b04719fc-934a-404b-a642-dc732a3d1589": {
     "id": "b04719fc-934a-404b-a642-dc732a3d1589",
     "prev": "af2f5933-b31d-4d30-b08a-e4c09432b9bb",
     "regions": {
      "701cdc94-3399-40dc-8e45-10d6edbf0959": {
       "attrs": {
        "height": 0.4,
        "width": 0.8,
        "x": 0.1,
        "y": 0.5
       },
       "content": {
        "cell": "fa78fa75-54cf-40d3-b52c-4b51c5070d9a",
        "part": "whole"
       },
       "id": "701cdc94-3399-40dc-8e45-10d6edbf0959"
      },
      "81f01069-a0c6-4ab1-98d1-d465e96aac6d": {
       "attrs": {
        "height": 0.8,
        "width": 0.8,
        "x": 0.1,
        "y": 0.1
       },
       "content": {
        "cell": "fb58a52c-71e9-402d-af86-eab194cf8050",
        "part": "whole"
       },
       "id": "81f01069-a0c6-4ab1-98d1-d465e96aac6d"
      },
      "ae73fc9b-89cf-4405-ab54-34e6c8b73a19": {
       "attrs": {
        "height": 0.4,
        "width": 0.8,
        "x": 0.1,
        "y": 0.5
       },
       "content": {
        "cell": "241f356d-567a-421d-b27c-7ce2d146d1bb",
        "part": "whole"
       },
       "id": "ae73fc9b-89cf-4405-ab54-34e6c8b73a19"
      }
     }
    },
    "b7c25bc1-4dd7-421b-9951-0c0c403c176d": {
     "id": "b7c25bc1-4dd7-421b-9951-0c0c403c176d",
     "prev": "76838eab-c2c3-4ff3-b09f-854a7c74c6d4",
     "regions": {
      "47f524f5-68f8-49df-9a61-61eab6cab03c": {
       "attrs": {
        "height": 0.4,
        "width": 0.8,
        "x": 0.1,
        "y": 0.5
       },
       "content": {
        "cell": "966e050d-5739-4ef9-a2ae-9a4957e14f3e",
        "part": "whole"
       },
       "id": "47f524f5-68f8-49df-9a61-61eab6cab03c"
      },
      "4b3ba01a-29e7-4e67-ac78-988162f7dde9": {
       "attrs": {
        "height": 0.8,
        "width": 0.8,
        "x": 0.1,
        "y": 0.1
       },
       "content": {
        "cell": "91401f60-44eb-42b2-86ea-c82b5e955ace",
        "part": "whole"
       },
       "id": "4b3ba01a-29e7-4e67-ac78-988162f7dde9"
      },
      "a47d9662-0a49-4b84-aae0-908067552ebd": {
       "attrs": {
        "height": 0.4,
        "width": 0.8,
        "x": 0.1,
        "y": 0.5
       },
       "content": {
        "cell": "6de4dae8-c949-4927-89a3-9741aba83e8d",
        "part": "whole"
       },
       "id": "a47d9662-0a49-4b84-aae0-908067552ebd"
      },
      "e64668fe-aafe-4e24-a46d-6a6266eeee77": {
       "attrs": {
        "height": 0.4,
        "width": 0.8,
        "x": 0.1,
        "y": 0.5
       },
       "content": {
        "cell": "7068c96d-f8f0-42bb-bdfd-dcbf9335323c",
        "part": "whole"
       },
       "id": "e64668fe-aafe-4e24-a46d-6a6266eeee77"
      }
     }
    },
    "d3ecec0a-67fe-4558-a268-50695fd7fe1c": {
     "id": "d3ecec0a-67fe-4558-a268-50695fd7fe1c",
     "prev": "fcda7de6-cb93-4b63-9dea-d5f23fecd968",
     "regions": {
      "b268bb57-2543-4b91-b9c0-84aa3cf09d5c": {
       "attrs": {
        "height": 0.8,
        "width": 0.8,
        "x": 0.1,
        "y": 0.1
       },
       "content": {
        "cell": "67aab8fa-45cd-4ede-8285-e3dad22d8b16",
        "part": "whole"
       },
       "id": "b268bb57-2543-4b91-b9c0-84aa3cf09d5c"
      }
     }
    },
    "e92a9020-6631-400a-aa50-46c1fa0a5f0c": {
     "id": "e92a9020-6631-400a-aa50-46c1fa0a5f0c",
     "prev": "ee94ae9b-9e13-414c-a017-db1d8913aaa8",
     "regions": {
      "bb15b4ea-132f-4146-ab77-93a4969c2904": {
       "attrs": {
        "height": 0.8,
        "width": 0.8,
        "x": 0.1,
        "y": 0.1
       },
       "content": {
        "cell": "7d5d2002-5cae-4d5f-8e2e-d5eaf5cd17da",
        "part": "whole"
       },
       "id": "bb15b4ea-132f-4146-ab77-93a4969c2904"
      }
     }
    },
    "ee94ae9b-9e13-414c-a017-db1d8913aaa8": {
     "id": "ee94ae9b-9e13-414c-a017-db1d8913aaa8",
     "prev": "f8fce519-927e-4fd0-88d8-23ece4403794",
     "regions": {
      "0b578bb1-2cd1-480b-8d65-dde0861851cb": {
       "attrs": {
        "height": 0.8,
        "width": 0.8,
        "x": 0.1,
        "y": 0.1
       },
       "content": {
        "cell": "f1c699bc-6717-4eb9-8e6d-66d433ba4618",
        "part": "whole"
       },
       "id": "0b578bb1-2cd1-480b-8d65-dde0861851cb"
      }
     }
    },
    "f8fce519-927e-4fd0-88d8-23ece4403794": {
     "id": "f8fce519-927e-4fd0-88d8-23ece4403794",
     "prev": "4792c0cc-ccd4-48bf-9b0e-a3c1f0f3008d",
     "regions": {
      "7510ae01-fe22-48b0-92cb-29b880cc85fc": {
       "attrs": {
        "height": 0.8,
        "width": 0.8,
        "x": 0.1,
        "y": 0.1
       },
       "content": {
        "cell": "e61ba538-5828-4a5a-a2c5-4fcceac35889",
        "part": "whole"
       },
       "id": "7510ae01-fe22-48b0-92cb-29b880cc85fc"
      }
     }
    },
    "fcda7de6-cb93-4b63-9dea-d5f23fecd968": {
     "id": "fcda7de6-cb93-4b63-9dea-d5f23fecd968",
     "prev": "03210a56-863e-4749-b7ba-ed75bfceceee",
     "regions": {
      "43f5b3bd-9e0c-4a98-a18c-1b9f7beaa3b8": {
       "attrs": {
        "height": 0.8,
        "width": 0.8,
        "x": 0.1,
        "y": 0.1
       },
       "content": {
        "cell": "318099ba-93dd-4c2c-a3ee-fc6622c472c8",
        "part": "whole"
       },
       "id": "43f5b3bd-9e0c-4a98-a18c-1b9f7beaa3b8"
      },
      "dbab9920-f08a-457a-949d-2c8289707798": {
       "attrs": {
        "height": 0.4,
        "width": 0.8,
        "x": 0.1,
        "y": 0.5
       },
       "content": {
        "cell": "8bb35ef7-00cc-4ad9-9dd4-6fac480df38e",
        "part": "whole"
       },
       "id": "dbab9920-f08a-457a-949d-2c8289707798"
      }
     }
    }
   },
   "themes": {}
  },
  "varInspector": {
   "cols": {
    "lenName": 16,
    "lenType": 16,
    "lenVar": 40
   },
   "kernels_config": {
    "python": {
     "delete_cmd_postfix": "",
     "delete_cmd_prefix": "del ",
     "library": "var_list.py",
     "varRefreshCmd": "print(var_dic_list())"
    },
    "r": {
     "delete_cmd_postfix": ") ",
     "delete_cmd_prefix": "rm(",
     "library": "var_list.r",
     "varRefreshCmd": "cat(var_dic_list()) "
    }
   },
   "types_to_exclude": [
    "module",
    "function",
    "builtin_function_or_method",
    "instance",
    "_Feature"
   ],
   "window_display": false
  }
 },
 "nbformat": 4,
 "nbformat_minor": 2
}
